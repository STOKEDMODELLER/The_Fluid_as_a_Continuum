{
 "cells": [
  {
   "cell_type": "markdown",
   "metadata": {},
   "source": [
    "<!-- # Cauchy’s stress theorem—stress tensor\n",
    "Surface forces that act on an object will not always act perpendicular to the surface. Figure below discribes surface forces acting on a cuboid element.\n",
    "![Components of stress in three dimensions](Figures/Components_stress_tensor_cartesian.png)\n",
    "$Figure\\;1:\\; Components\\; of\\; stress\\; in\\; three\\; dimensions$\n",
    "\n",
    "This cuboid element is assumed to be in equilibrium (Cauchy reciprocal theorem). Hence, each of these surface force vectors (traction vectors) have an qual and oposite traction vectors ($\\frac{Force}{Unit\\;area}$) on the parallel surface of the cuboid.\n",
    "![cubeoid_traction_equilibrium](Figures/cubeoid_traction_equilibrium.png)\n",
    "\n",
    "$Figure\\;2:\\;2D\\; view\\; of\\; traction\\; vectors\\; acting\\; on\\; the\\;objects$ -->"
   ]
  },
  {
   "cell_type": "markdown",
   "metadata": {},
   "source": [
    "Below is the tetrahidron used to explore and proof the 2nd order stress tensor proposed by Cauchy’s stress theorem. The tetrahedron is formed by slicing the infinitesimal cuboid element along a plain.\n",
    "![Cauchy_tetrahedron](Figures/Cauchy_tetrahedron.svg)\n",
    "\n",
    "$Figure\\;3:\\;Cauchy\\;tetrahedron$\n",
    "\n",
    "This tetrahidron has three faces and an infenetisimal area ($dA$) on the sliced plain, normal unit vector $n$ perpendicular to the surface of the sliced plane, and traction vector acting from that plain $T^{(n)}$. This infenetisimal area and the unit vector are projected on all three faces based on the pythagorian theiorem.\n",
    "\n",
    "$n_1 = Cos(\\hat n,x_1) $\\\n",
    "$n_2 = Cos(\\hat n,x_2) $\\\n",
    "$n_3 = Cos(\\hat n,x_3) $\\\n",
    "$dA_1 = n_1 dA $\\\n",
    "$dA_2 = n_2 dA $\\\n",
    "$dA_3 = n_3 dA $\n",
    "<img src=\"Figures/unit_vector.png\" width=\"300\">\n",
    "$Figure\\;4:\\;Components\\; of \\;unit\\; vector\\; n\\; in\\; relation\\; to\\; refrance\\; axis$\n",
    "\n"
   ]
  },
  {
   "cell_type": "markdown",
   "metadata": {},
   "source": [
    "### Force Balance (conservation of linear momentum)\n",
    "\n",
    "Newton's second law of motion simply discribes the equlibrium of forces. Newton's second law of motion is best discribed by\n",
    "\n",
    "$Force = mass \\times acceleration$\n",
    "\n",
    "In this case, Force would be the summation of all the forces accting on the object ($Traction\\;vectors \\times Plain\\;surface\\;area$).\n",
    "\n",
    "\n",
    "$mass=\\frac{1}{3}\\times dA \\times h \\times \\rho$\n",
    "\n",
    "$T^{n}dA-T^{e_1}dA_1-T^{e_2}dA_2-T^{e_3}dA_3=m\\times a$\n",
    "\n",
    "$T^{n}dA-T^{e_1}n_1dA-T^{e_2}n_2dA-T^{e_3}n_3dA=m\\times a$\n",
    "\n",
    "$T^{n}dA-T^{e_1}n_1dA-T^{e_2}n_2dA-T^{e_3}n_3dA=\\frac{1}{3}\\times dA \\times h\\times a$\n",
    "\n",
    "$T^{n}-T^{e_1}n_1-T^{e_2}n_2-T^{e_3}n_3=\\frac{1}{3}\\times h \\times \\rho\\times a$\n",
    "\n",
    "\n",
    "Mass is the product of the volume of the object and the dencity of the object, and acceleration is the gravity. This object is infenetisimaly small. As h, showen in figure 3, approachs goes to 0 mass becomes 0, that would result in\n",
    "\n",
    "$mass \\times acceleration = \\frac{1}{3}\\times h \\times \\rho\\times a = 0$ \n",
    "\n"
   ]
  },
  {
   "cell_type": "markdown",
   "metadata": {},
   "source": [
    "### $2^{nd}$ Order Stress Tensor\n",
    "\n",
    "Earler in this discussion it was pointed out that the traction vector is not perpendicular to the surfce its acting on. Vectors that act at an angle have 2 components in 2 dimentions (X and Y) and 3 components in 3 dimanetions (X,Y, and Z).\n",
    "\n",
    "<img src=\"Figures/Traction_vector_component.png\" width=\"300\">\n",
    "\n",
    "\n",
    "$T_1^{n}=T_1^{e_1}n_1+T_1^{e_2}n_2+T_1^{e_3}n_3$\n",
    "\n",
    "$T_2^{n}=T_2^{e_1}n_1+T_2^{e_2}n_2+T_2^{e_3}n_3$\n",
    "\n",
    "$T_3^{n}=T_3^{e_1}n_1+T_3^{e_2}n_2+T_3^{e_3}n_3$\n",
    "\n",
    "\n",
    "$\n",
    "\\begin{bmatrix}\n",
    "T_1^{n}\\\\ \n",
    "T_2^{n}\\\\ \n",
    "T_3^{n}\n",
    "\\end{bmatrix}=\\begin{bmatrix}\n",
    "T_1^{e_1}\\\\ \n",
    "T_2^{e_1}\\\\ \n",
    "T_3^{e_1}\n",
    "\\end{bmatrix}n_1+\n",
    "\\begin{bmatrix}\n",
    "T_1^{e_2}\\\\ \n",
    "T_2^{e_2}\\\\ \n",
    "T_3^{e_2}\n",
    "\\end{bmatrix}n_2+\n",
    "\\begin{bmatrix}\n",
    "T_1^{e_3}\\\\ \n",
    "T_2^{e_3}\\\\ \n",
    "T_3^{e_3}\n",
    "\\end{bmatrix}n_3\n",
    "$\n",
    "\n",
    "\n",
    "$\n",
    "\\begin{bmatrix}\n",
    "T_1^{n}\\\\ \n",
    "T_2^{n}\\\\ \n",
    "T_3^{n}\n",
    "\\end{bmatrix}=\n",
    "\\begin{bmatrix}\n",
    "T_1\\\\ \n",
    "T_2\\\\ \n",
    "T_3\n",
    "\\end{bmatrix}^{e_1}n_1+\n",
    "\\begin{bmatrix}\n",
    "T_1\\\\ \n",
    "T_2\\\\ \n",
    "T_3\n",
    "\\end{bmatrix}^{e_2}n_2+\n",
    "\\begin{bmatrix}\n",
    "T_1\\\\ \n",
    "T_2\\\\ \n",
    "T_3\n",
    "\\end{bmatrix}^{e_3}n_3\n",
    "$"
   ]
  },
  {
   "cell_type": "markdown",
   "metadata": {},
   "source": [
    "$\n",
    "\\begin{bmatrix}\n",
    "T_1^{n}\\\\ \n",
    "T_2^{n}\\\\ \n",
    "T_3^{n}\n",
    "\\end{bmatrix}=\n",
    "\\begin{bmatrix}\n",
    "T_1^{e_1}& T_1^{e_2}& T_1^{e_3}\\\\ \n",
    "T_2^{e_1}& T_2^{e_2}& T_2^{e_3}\\\\\n",
    "T_3^{e_1}& T_3^{e_2}& T_3^{e_3}\\\\ \n",
    "\\end{bmatrix}\n",
    "\\begin{bmatrix}\n",
    "n_1\\\\\n",
    "n_2\\\\\n",
    "n_3\n",
    "\\end{bmatrix}\n",
    "$"
   ]
  },
  {
   "cell_type": "markdown",
   "metadata": {},
   "source": [
    "The above exprssion can be simplifyed by \n",
    "\n",
    "$\\vec{T}=\\sigma^T \\times \\vec{n}$\n",
    "\n",
    "where $\\sigma$ is Cauchy Stress."
   ]
  },
  {
   "cell_type": "markdown",
   "metadata": {},
   "source": [
    "# Mass and Momentum Conservation\n",
    "\n",
    "$...$\n"
   ]
  }
 ],
 "metadata": {
  "kernelspec": {
   "display_name": "Python 3",
   "language": "python",
   "name": "python3"
  },
  "language_info": {
   "codemirror_mode": {
    "name": "ipython",
    "version": 3
   },
   "file_extension": ".py",
   "mimetype": "text/x-python",
   "name": "python",
   "nbconvert_exporter": "python",
   "pygments_lexer": "ipython3",
   "version": "3.7.6"
  }
 },
 "nbformat": 4,
 "nbformat_minor": 4
}
