{
 "cells": [
  {
   "cell_type": "markdown",
   "metadata": {},
   "source": [
    "# Surface and volume forces\n",
    "\n",
    "Forces acting on a fluid elemnt are classifyed in to:\n",
    "- Surface Foreces (Short-range force)\n",
    "- Body/Volume Forces (Long-range force)\n",
    "\n",
    "## Surface Forces\n",
    "- This force is appreciable only if fluid elements are in contact.\n",
    "- It exists only on the boundary, and is called a ”surface force”.\n"
   ]
  }
 ],
 "metadata": {
  "kernelspec": {
   "display_name": "Python 3",
   "language": "python",
   "name": "python3"
  },
  "language_info": {
   "codemirror_mode": {
    "name": "ipython",
    "version": 3
   },
   "file_extension": ".py",
   "mimetype": "text/x-python",
   "name": "python",
   "nbconvert_exporter": "python",
   "pygments_lexer": "ipython3",
   "version": "3.7.6"
  }
 },
 "nbformat": 4,
 "nbformat_minor": 4
}
